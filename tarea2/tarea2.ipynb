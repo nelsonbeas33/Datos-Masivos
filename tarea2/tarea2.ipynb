{
  "nbformat": 4,
  "nbformat_minor": 0,
  "metadata": {
    "colab": {
      "provenance": [],
      "authorship_tag": "ABX9TyM8wk80Z74Vyfh685YJXGiU",
      "include_colab_link": true
    },
    "kernelspec": {
      "name": "python3",
      "display_name": "Python 3"
    },
    "language_info": {
      "name": "python"
    }
  },
  "cells": [
    {
      "cell_type": "markdown",
      "metadata": {
        "id": "view-in-github",
        "colab_type": "text"
      },
      "source": [
        "<a href=\"https://colab.research.google.com/github/nelsonbeas33/Datos-Masivos/blob/main/tarea2/tarea2.ipynb\" target=\"_parent\"><img src=\"https://colab.research.google.com/assets/colab-badge.svg\" alt=\"Open In Colab\"/></a>"
      ]
    },
    {
      "cell_type": "code",
      "source": [
        "!sudo apt update\n",
        "!apt-get install openjdk-8-jdk-headless -qq > /dev/null\n",
        "#Check this site for the latest download link https://www.apache.org/dyn/closer.lua/spark/spark-3.2.1/spark-3.2.1-bin-hadoop3.2.tgz\n",
        "!wget -q https://archive.apache.org/dist/spark/spark-3.2.1/spark-3.2.1-bin-hadoop3.2.tgz\n",
        "!tar xf spark-3.2.1-bin-hadoop3.2.tgz\n",
        "!pip install -q findspark\n",
        "!pip install pyspark\n",
        "!pip install py4j"
      ],
      "metadata": {
        "colab": {
          "base_uri": "https://localhost:8080/"
        },
        "id": "piF024oczoRe",
        "outputId": "5ea1b0ce-1188-4155-abcf-99a9a46a0aa6"
      },
      "execution_count": 2,
      "outputs": [
        {
          "output_type": "stream",
          "name": "stdout",
          "text": [
            "\u001b[33m\r0% [Working]\u001b[0m\r            \rGet:1 http://security.ubuntu.com/ubuntu jammy-security InRelease [129 kB]\n",
            "\u001b[33m\r0% [Connecting to archive.ubuntu.com] [1 InRelease 14.2 kB/129 kB 11%] [Waiting\u001b[0m\r                                                                               \rGet:2 https://cloud.r-project.org/bin/linux/ubuntu jammy-cran40/ InRelease [3,626 B]\n",
            "\u001b[33m\r0% [Connecting to archive.ubuntu.com] [1 InRelease 14.2 kB/129 kB 11%] [2 InRel\u001b[0m\u001b[33m\r0% [Connecting to archive.ubuntu.com] [1 InRelease 20.0 kB/129 kB 15%] [Connect\u001b[0m\r                                                                               \rGet:3 https://developer.download.nvidia.com/compute/cuda/repos/ubuntu2204/x86_64  InRelease [1,581 B]\n",
            "\u001b[33m\r0% [Connecting to archive.ubuntu.com (91.189.91.81)] [1 InRelease 43.1 kB/129 k\u001b[0m\u001b[33m\r0% [Connecting to archive.ubuntu.com (91.189.91.81)] [1 InRelease 43.1 kB/129 k\u001b[0m\r                                                                               \rHit:4 http://archive.ubuntu.com/ubuntu jammy InRelease\n",
            "\u001b[33m\r0% [Waiting for headers] [1 InRelease 129 kB/129 kB 100%] [Waiting for headers]\u001b[0m\u001b[33m\r0% [Waiting for headers] [Waiting for headers] [Connected to ppa.launchpadconte\u001b[0m\r                                                                               \rIgn:5 https://r2u.stat.illinois.edu/ubuntu jammy InRelease\n",
            "\u001b[33m\r0% [Waiting for headers] [Connected to ppa.launchpadcontent.net (185.125.190.80\u001b[0m\r                                                                               \rGet:6 https://r2u.stat.illinois.edu/ubuntu jammy Release [5,713 B]\n",
            "\u001b[33m\r0% [Waiting for headers] [6 Release 5,713 B/5,713 B 100%] [Connected to ppa.lau\u001b[0m\u001b[33m\r0% [Waiting for headers] [Connected to ppa.launchpadcontent.net (185.125.190.80\u001b[0m\r                                                                               \rGet:7 http://archive.ubuntu.com/ubuntu jammy-updates InRelease [128 kB]\n",
            "Get:8 https://r2u.stat.illinois.edu/ubuntu jammy Release.gpg [793 B]\n",
            "Hit:9 http://archive.ubuntu.com/ubuntu jammy-backports InRelease\n",
            "Get:10 https://developer.download.nvidia.com/compute/cuda/repos/ubuntu2204/x86_64  Packages [1,031 kB]\n",
            "Hit:11 https://ppa.launchpadcontent.net/deadsnakes/ppa/ubuntu jammy InRelease\n",
            "Get:12 http://security.ubuntu.com/ubuntu jammy-security/restricted amd64 Packages [3,122 kB]\n",
            "Hit:13 https://ppa.launchpadcontent.net/graphics-drivers/ppa/ubuntu jammy InRelease\n",
            "Get:14 https://r2u.stat.illinois.edu/ubuntu jammy/main amd64 Packages [2,592 kB]\n",
            "Hit:15 https://ppa.launchpadcontent.net/ubuntugis/ppa/ubuntu jammy InRelease\n",
            "Get:16 http://security.ubuntu.com/ubuntu jammy-security/universe amd64 Packages [1,160 kB]\n",
            "Get:17 http://security.ubuntu.com/ubuntu jammy-security/main amd64 Packages [2,325 kB]\n",
            "Get:18 http://archive.ubuntu.com/ubuntu jammy-updates/main amd64 Packages [2,602 kB]\n",
            "Get:19 https://r2u.stat.illinois.edu/ubuntu jammy/main all Packages [8,379 kB]\n",
            "Get:20 http://archive.ubuntu.com/ubuntu jammy-updates/universe amd64 Packages [1,448 kB]\n",
            "Get:21 http://archive.ubuntu.com/ubuntu jammy-updates/restricted amd64 Packages [3,200 kB]\n",
            "Fetched 26.1 MB in 3s (9,275 kB/s)\n",
            "Reading package lists... Done\n",
            "Building dependency tree... Done\n",
            "Reading state information... Done\n",
            "49 packages can be upgraded. Run 'apt list --upgradable' to see them.\n",
            "\u001b[1;33mW: \u001b[0mSkipping acquire of configured file 'main/source/Sources' as repository 'https://r2u.stat.illinois.edu/ubuntu jammy InRelease' does not seem to provide it (sources.list entry misspelt?)\u001b[0m\n",
            "Collecting pyspark\n",
            "  Downloading pyspark-3.5.3.tar.gz (317.3 MB)\n",
            "\u001b[2K     \u001b[90m━━━━━━━━━━━━━━━━━━━━━━━━━━━━━━━━━━━━━━━━\u001b[0m \u001b[32m317.3/317.3 MB\u001b[0m \u001b[31m4.3 MB/s\u001b[0m eta \u001b[36m0:00:00\u001b[0m\n",
            "\u001b[?25h  Preparing metadata (setup.py) ... \u001b[?25l\u001b[?25hdone\n",
            "Requirement already satisfied: py4j==0.10.9.7 in /usr/local/lib/python3.10/dist-packages (from pyspark) (0.10.9.7)\n",
            "Building wheels for collected packages: pyspark\n",
            "  Building wheel for pyspark (setup.py) ... \u001b[?25l\u001b[?25hdone\n",
            "  Created wheel for pyspark: filename=pyspark-3.5.3-py2.py3-none-any.whl size=317840625 sha256=ab158a95a098b504271cfe15ad02ff7b06e163d131aae3ce9ac78448ba186e8c\n",
            "  Stored in directory: /root/.cache/pip/wheels/1b/3a/92/28b93e2fbfdbb07509ca4d6f50c5e407f48dce4ddbda69a4ab\n",
            "Successfully built pyspark\n",
            "Installing collected packages: pyspark\n",
            "Successfully installed pyspark-3.5.3\n",
            "Requirement already satisfied: py4j in /usr/local/lib/python3.10/dist-packages (0.10.9.7)\n"
          ]
        }
      ]
    },
    {
      "cell_type": "code",
      "source": [
        "import os\n",
        "import sys\n",
        "\n",
        "import findspark\n",
        "findspark.init()\n",
        "findspark.find()\n",
        "\n",
        "from pyspark import SparkContext\n",
        "from pyspark.sql import SparkSession\n",
        "\n",
        "from google.colab import drive\n",
        "drive.mount('/content/drive')\n"
      ],
      "metadata": {
        "colab": {
          "base_uri": "https://localhost:8080/"
        },
        "id": "XvTFreRxzsJP",
        "outputId": "61e11d49-b5aa-4820-ff3e-29bb98796abc"
      },
      "execution_count": 3,
      "outputs": [
        {
          "output_type": "stream",
          "name": "stdout",
          "text": [
            "Mounted at /content/drive\n"
          ]
        }
      ]
    },
    {
      "cell_type": "code",
      "source": [
        "sc = SparkContext(\"local\", \"RDDs\")"
      ],
      "metadata": {
        "id": "NwUlu37g0uR4"
      },
      "execution_count": 4,
      "outputs": []
    },
    {
      "cell_type": "code",
      "source": [
        "spark = SparkSession.builder.appName(\"CSVToSpark\").getOrCreate()"
      ],
      "metadata": {
        "id": "P38e-mT72uRD"
      },
      "execution_count": 5,
      "outputs": []
    },
    {
      "cell_type": "code",
      "source": [
        "df_spark = spark.read.csv('/content/drive/MyDrive/Datos Masivos/order_products__prior.csv', header=True, inferSchema=True)\n",
        "df_spark.printSchema()"
      ],
      "metadata": {
        "colab": {
          "base_uri": "https://localhost:8080/"
        },
        "id": "bw47Kq-R1sop",
        "outputId": "26432b3e-bb70-4f2d-d620-80e3d2c4e6ad"
      },
      "execution_count": 6,
      "outputs": [
        {
          "output_type": "stream",
          "name": "stdout",
          "text": [
            "root\n",
            " |-- order_id: integer (nullable = true)\n",
            " |-- product_id: integer (nullable = true)\n",
            " |-- add_to_cart_order: integer (nullable = true)\n",
            " |-- reordered: integer (nullable = true)\n",
            "\n"
          ]
        }
      ]
    },
    {
      "cell_type": "code",
      "source": [
        "df_spark.describe().show()"
      ],
      "metadata": {
        "colab": {
          "base_uri": "https://localhost:8080/"
        },
        "id": "nVjMBU3z4jSK",
        "outputId": "f346eca7-f88f-43b0-f2f7-e45a7a86e727"
      },
      "execution_count": 7,
      "outputs": [
        {
          "output_type": "stream",
          "name": "stdout",
          "text": [
            "+-------+------------------+------------------+-----------------+-------------------+\n",
            "|summary|          order_id|        product_id|add_to_cart_order|          reordered|\n",
            "+-------+------------------+------------------+-----------------+-------------------+\n",
            "|  count|          32434489|          32434489|         32434489|           32434489|\n",
            "|   mean|1710748.5189427834|25576.337535424096|8.351075517175559| 0.5896974667922161|\n",
            "| stddev|  987300.696452965|14096.689090257634|7.126671161204477|0.49188857672328484|\n",
            "|    min|                 2|                 1|                1|                  0|\n",
            "|    max|           3421083|             49688|              145|                  1|\n",
            "+-------+------------------+------------------+-----------------+-------------------+\n",
            "\n"
          ]
        }
      ]
    },
    {
      "cell_type": "code",
      "source": [
        "rdd = df_spark.rdd\n",
        "rdd.take(5)\n",
        "for row in rdd.take(5):  # Muestra las primeras 5 filas\n",
        "    print(row)"
      ],
      "metadata": {
        "colab": {
          "base_uri": "https://localhost:8080/"
        },
        "id": "sOKUBFzO7YO0",
        "outputId": "07c15f4c-b38c-4dc9-dd9e-64f7c5c10734"
      },
      "execution_count": 9,
      "outputs": [
        {
          "output_type": "stream",
          "name": "stdout",
          "text": [
            "Row(order_id=2, product_id=33120, add_to_cart_order=1, reordered=1)\n",
            "Row(order_id=2, product_id=28985, add_to_cart_order=2, reordered=1)\n",
            "Row(order_id=2, product_id=9327, add_to_cart_order=3, reordered=0)\n",
            "Row(order_id=2, product_id=45918, add_to_cart_order=4, reordered=1)\n",
            "Row(order_id=2, product_id=30035, add_to_cart_order=5, reordered=0)\n"
          ]
        }
      ]
    },
    {
      "cell_type": "code",
      "source": [
        "#importamos las categoraias\n",
        "df_categorias = spark.read.csv('/content/drive/MyDrive/Datos Masivos/aisles.csv', header=True, inferSchema=True)\n",
        "df_categorias.printSchema()\n",
        "\n",
        "rdd_categorias = df_categorias.rdd\n",
        "rdd_transformado = rdd_categorias.map(lambda row: row['aisle'].split()[0]) #tomo solo la primera palabra\n",
        "\n",
        "for row in rdd_transformado.take(5):  # Muestra las primeras 5 filas\n",
        "    print(row)"
      ],
      "metadata": {
        "colab": {
          "base_uri": "https://localhost:8080/"
        },
        "id": "paFZJPXHY-qS",
        "outputId": "20626725-1ccd-4a93-d060-838df6f6b6ef"
      },
      "execution_count": 11,
      "outputs": [
        {
          "output_type": "stream",
          "name": "stdout",
          "text": [
            "root\n",
            " |-- aisle_id: integer (nullable = true)\n",
            " |-- aisle: string (nullable = true)\n",
            "\n",
            "prepared\n",
            "specialty\n",
            "energy\n",
            "instant\n",
            "marinades\n"
          ]
        }
      ]
    },
    {
      "cell_type": "code",
      "source": [
        "#para las ordenes, tomamos solo las que tienen un valor igual a la primera palabra buscada:\n",
        "\n",
        "rdd_ordenes_filtrado = rdd_transformado.filter(lambda palabra: 'specialty' in palabra.lower())\n",
        "\n",
        "# Muestra la primera fila filtrada\n",
        "for row in rdd_ordenes_filtrado.take(1):\n",
        "    print(row)"
      ],
      "metadata": {
        "colab": {
          "base_uri": "https://localhost:8080/"
        },
        "id": "Vs8I_Xkafayu",
        "outputId": "35452d47-3a02-4f81-8f27-7b13ae1832db"
      },
      "execution_count": 16,
      "outputs": [
        {
          "output_type": "stream",
          "name": "stdout",
          "text": [
            "specialty\n"
          ]
        }
      ]
    },
    {
      "cell_type": "code",
      "source": [
        "#particionando las ordenes de compra:\n",
        "rdd_reparticionado = rdd.repartition(4)\n",
        "rdd_reparticionado.getNumPartitions()"
      ],
      "metadata": {
        "colab": {
          "base_uri": "https://localhost:8080/"
        },
        "id": "G-okjO9ph6bl",
        "outputId": "e1853f8b-f6c6-4cfe-ab54-8de0ba5f3e5b"
      },
      "execution_count": 17,
      "outputs": [
        {
          "output_type": "execute_result",
          "data": {
            "text/plain": [
              "4"
            ]
          },
          "metadata": {},
          "execution_count": 17
        }
      ]
    },
    {
      "cell_type": "code",
      "source": [
        "#contamos el numero de registros\n",
        "rdd.count()"
      ],
      "metadata": {
        "colab": {
          "base_uri": "https://localhost:8080/"
        },
        "id": "gN0e-gdjiqhz",
        "outputId": "a3e8288a-4969-4d1b-f860-12f0b4f886c5"
      },
      "execution_count": 18,
      "outputs": [
        {
          "output_type": "execute_result",
          "data": {
            "text/plain": [
              "32434489"
            ]
          },
          "metadata": {},
          "execution_count": 18
        }
      ]
    }
  ]
}